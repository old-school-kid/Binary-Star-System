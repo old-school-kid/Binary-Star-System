{
  "nbformat": 4,
  "nbformat_minor": 0,
  "metadata": {
    "colab": {
      "name": "Untitled0.ipynb",
      "provenance": [],
      "authorship_tag": "ABX9TyNUvVsfFwj6qX1cwMZ0jjz+",
      "include_colab_link": true
    },
    "kernelspec": {
      "name": "python3",
      "display_name": "Python 3"
    },
    "language_info": {
      "name": "python"
    }
  },
  "cells": [
    {
      "cell_type": "markdown",
      "metadata": {
        "id": "view-in-github",
        "colab_type": "text"
      },
      "source": [
        "<a href=\"https://colab.research.google.com/github/old-school-kid/Binary-Star-System/blob/master/Untitled0.ipynb\" target=\"_parent\"><img src=\"https://colab.research.google.com/assets/colab-badge.svg\" alt=\"Open In Colab\"/></a>"
      ]
    },
    {
      "cell_type": "code",
      "metadata": {
        "colab": {
          "base_uri": "https://localhost:8080/"
        },
        "id": "-PJAEQGx3_64",
        "outputId": "49d15718-eec7-42c4-e879-ebf750395215"
      },
      "source": [
        "!pip install pygame\n",
        "!pip install tkinter-page\n",
        "!pip install beautifulsoup4\n",
        "!pip install requests"
      ],
      "execution_count": 1,
      "outputs": [
        {
          "output_type": "stream",
          "text": [
            "Collecting pygame\n",
            "\u001b[?25l  Downloading https://files.pythonhosted.org/packages/4b/9e/c400554dd1d0e562bd4379f35ad5023c68fc120003a58991405850f56f95/pygame-2.0.1-cp37-cp37m-manylinux1_x86_64.whl (11.8MB)\n",
            "\u001b[K     |████████████████████████████████| 11.8MB 6.2MB/s \n",
            "\u001b[?25hInstalling collected packages: pygame\n",
            "Successfully installed pygame-2.0.1\n",
            "Collecting tkinter-page\n",
            "  Downloading https://files.pythonhosted.org/packages/6a/c6/d286d56c1e86d534ec4cc4bb0d222d7cd90b258523b4eb6ce1f953cd26d3/tkinter_page-0.0.5-py3-none-any.whl\n",
            "Installing collected packages: tkinter-page\n",
            "Successfully installed tkinter-page-0.0.5\n",
            "Requirement already satisfied: beautifulsoup4 in /usr/local/lib/python3.7/dist-packages (4.6.3)\n",
            "Requirement already satisfied: requests in /usr/local/lib/python3.7/dist-packages (2.23.0)\n",
            "Requirement already satisfied: certifi>=2017.4.17 in /usr/local/lib/python3.7/dist-packages (from requests) (2021.5.30)\n",
            "Requirement already satisfied: chardet<4,>=3.0.2 in /usr/local/lib/python3.7/dist-packages (from requests) (3.0.4)\n",
            "Requirement already satisfied: idna<3,>=2.5 in /usr/local/lib/python3.7/dist-packages (from requests) (2.10)\n",
            "Requirement already satisfied: urllib3!=1.25.0,!=1.25.1,<1.26,>=1.21.1 in /usr/local/lib/python3.7/dist-packages (from requests) (1.24.3)\n"
          ],
          "name": "stdout"
        }
      ]
    },
    {
      "cell_type": "code",
      "metadata": {
        "id": "VZhk7VwU2A5V",
        "outputId": "f2555892-68ad-40dd-86f3-8b28a7dbf610",
        "colab": {
          "base_uri": "https://localhost:8080/"
        }
      },
      "source": [
        "import numpy as np\n",
        "import math\n",
        "import pygame\n",
        "import random \n",
        "import sys\n",
        "import tkinter as tk\n",
        "from tkinter import messagebox"
      ],
      "execution_count": 2,
      "outputs": [
        {
          "output_type": "stream",
          "text": [
            "pygame 2.0.1 (SDL 2.0.14, Python 3.7.10)\n",
            "Hello from the pygame community. https://www.pygame.org/contribute.html\n"
          ],
          "name": "stdout"
        }
      ]
    },
    {
      "cell_type": "code",
      "metadata": {
        "id": "VuVPFpm35CMe"
      },
      "source": [
        "width = 500\n",
        "height = 500\n",
        "\n",
        "cols = 25\n",
        "rows = 20"
      ],
      "execution_count": 3,
      "outputs": []
    },
    {
      "cell_type": "code",
      "metadata": {
        "id": "49GfO9OD8nc3"
      },
      "source": [
        "import os\n",
        "os.environ['SDL_VIDEODRIVER']='dummy'"
      ],
      "execution_count": 4,
      "outputs": []
    },
    {
      "cell_type": "code",
      "metadata": {
        "id": "68qfq4PG5Qme"
      },
      "source": [
        "class cube():\n",
        "    rows = 20\n",
        "    w = 500\n",
        "    def __init__(self, start, dirnx=1, dirny=0, color=(255,0,0)):\n",
        "        self.pos = start\n",
        "        self.dirnx = dirnx\n",
        "        self.dirny = dirny # \"L\", \"R\", \"U\", \"D\"\n",
        "        self.color = color\n",
        "\n",
        "    def move(self, dirnx, dirny):\n",
        "        self.dirnx = dirnx\n",
        "        self.dirny = dirny\n",
        "        self.pos  = (self.pos[0] + self.dirnx, self.pos[1] + self.dirny)\n",
        "            \n",
        "\n",
        "    def draw(self, surface, eyes=False):\n",
        "        dis = self.w // self.rows\n",
        "        i = self.pos[0]\n",
        "        j = self.pos[1]\n",
        "        \n",
        "        pygame.draw.rect(surface, self.color, (i*dis+1,j*dis+1,dis-2,dis-2))\n",
        "        if eyes:\n",
        "            centre = dis//2\n",
        "            radius = 3\n",
        "            circleMiddle = (i*dis+centre-radius,j*dis+8)\n",
        "            circleMiddle2 = (i*dis + dis -radius*2, j*dis+8)\n",
        "            pygame.draw.circle(surface, (0,0,0), circleMiddle, radius)\n",
        "            pygame.draw.circle(surface, (0,0,0), circleMiddle2, radius)"
      ],
      "execution_count": 5,
      "outputs": []
    },
    {
      "cell_type": "code",
      "metadata": {
        "id": "vU9NRJRF5XLJ"
      },
      "source": [
        "class snake():\n",
        "    body = []\n",
        "    turns = {}\n",
        "    \n",
        "    def __init__(self, color, pos):\n",
        "        #pos is given as coordinates on the grid ex (1,5)\n",
        "        self.color = color\n",
        "        self.head = cube(pos)\n",
        "        self.body.append(self.head)\n",
        "        self.dirnx = 0\n",
        "        self.dirny = 1\n",
        "    \n",
        "    def move(self):\n",
        "        for event in pygame.event.get():\n",
        "            if event.type == pygame.QUIT:\n",
        "                pygame.quit()\n",
        "            keys = pygame.key.get_pressed()\n",
        "\n",
        "            for key in keys:\n",
        "                if keys[pygame.K_LEFT]:\n",
        "                    self.dirnx = -1\n",
        "                    self.dirny = 0\n",
        "                    self.turns[self.head.pos[:]] = [self.dirnx,self.dirny]\n",
        "                elif keys[pygame.K_RIGHT]:\n",
        "                    self.dirnx = 1\n",
        "                    self.dirny = 0\n",
        "                    self.turns[self.head.pos[:]] = [self.dirnx,self.dirny]\n",
        "                elif keys[pygame.K_UP]:\n",
        "                    self.dirny = -1\n",
        "                    self.dirnx = 0\n",
        "                    self.turns[self.head.pos[:]] = [self.dirnx,self.dirny]\n",
        "                elif keys[pygame.K_DOWN]:\n",
        "                    self.dirny = 1\n",
        "                    self.dirnx = 0\n",
        "                    self.turns[self.head.pos[:]] = [self.dirnx,self.dirny]\n",
        "        \n",
        "        for i, c in enumerate(self.body):\n",
        "            p = c.pos[:]\n",
        "            if p in self.turns:\n",
        "                turn = self.turns[p]\n",
        "                c.move(turn[0], turn[1])\n",
        "                if i == len(self.body)-1:\n",
        "                    self.turns.pop(p)\n",
        "            else:\n",
        "                c.move(c.dirnx,c.dirny)\n",
        "        \n",
        "        \n",
        "    def reset(self,pos):\n",
        "        self.head = cube(pos)\n",
        "        self.body = []\n",
        "        self.body.append(self.head)\n",
        "        self.turns = {}\n",
        "        self.dirnx = 0\n",
        "        self.dirny = 1\n",
        "\n",
        "    def addCube(self):\n",
        "        tail = self.body[-1]\n",
        "        dx, dy = tail.dirnx, tail.dirny\n",
        "\n",
        "        if dx == 1 and dy == 0:\n",
        "            self.body.append(cube((tail.pos[0]-1,tail.pos[1])))\n",
        "        elif dx == -1 and dy == 0:\n",
        "            self.body.append(cube((tail.pos[0]+1,tail.pos[1])))\n",
        "        elif dx == 0 and dy == 1:\n",
        "            self.body.append(cube((tail.pos[0],tail.pos[1]-1)))\n",
        "        elif dx == 0 and dy == -1:\n",
        "            self.body.append(cube((tail.pos[0],tail.pos[1]+1)))\n",
        "\n",
        "        self.body[-1].dirnx = dx\n",
        "        self.body[-1].dirny = dy\n",
        "    \n",
        "    def draw(self, surface):\n",
        "        for i,c in enumerate(self.body):\n",
        "            if i == 0:\n",
        "                c.draw(surface, True)\n",
        "            else:\n",
        "                c.draw(surface)\n",
        "\n",
        "\n",
        "\n",
        "def redrawWindow():\n",
        "    global win\n",
        "    win.fill((0,0,0))\n",
        "    drawGrid(width, rows, win)\n",
        "    s.draw(win)\n",
        "    snack.draw(win)\n",
        "    pygame.display.update()\n",
        "    pass\n",
        "\n",
        "\n",
        "\n",
        "def drawGrid(w, rows, surface):\n",
        "    sizeBtwn = w // rows\n",
        "\n",
        "    x = 0\n",
        "    y = 0\n",
        "    for l in range(rows):\n",
        "        x = x + sizeBtwn\n",
        "        y = y +sizeBtwn\n",
        "\n",
        "        pygame.draw.line(surface, (255,255,255), (x, 0),(x,w))\n",
        "        pygame.draw.line(surface, (255,255,255), (0, y),(w,y))\n",
        "    \n",
        "\n",
        "\n",
        "def randomSnack(rows, item):\n",
        "    positions = item.body\n",
        "\n",
        "    while True:\n",
        "        x = random.randrange(1,rows-1)\n",
        "        y = random.randrange(1,rows-1)\n",
        "        if len(list(filter(lambda z:z.pos == (x,y), positions))) > 0:\n",
        "               continue\n",
        "        else:\n",
        "               break\n",
        "\n",
        "    return (x,y)"
      ],
      "execution_count": 6,
      "outputs": []
    },
    {
      "cell_type": "code",
      "metadata": {
        "id": "oEC-3JPP5fSA"
      },
      "source": [
        "def main():\n",
        "\n",
        "\n",
        "    pygame.init()\n",
        "    running= True\n",
        "\n",
        "    # win = pygame.display.set_mode((500, 500))\n",
        "    # pygame.display.set_caption(\"hello\")\n",
        "    # font = pygame.font.SysFont(\"comicsans\", 100)\n",
        "    # text = font.render(\"hello\", 1, (255, 255, 255))\n",
        "    # win.blit(text, (200, 200))\n",
        "    # pygame.display.update()\n",
        "\n",
        "    # pygame.quit()\n",
        "    # pygame.time.delay(3000)\n",
        "    # sys.exit(0)\n",
        "\n",
        "    global s, snack, win\n",
        "    win = pygame.Surface((width,height), depth=32)\n",
        "    s = snake((255,0,0), (10,10))\n",
        "    s.addCube()\n",
        "    snack = cube(randomSnack(rows,s), color=(0,255,0))\n",
        "    flag = True\n",
        "    clock = pygame.time.Clock()\n",
        "    \n",
        "    while flag:\n",
        "        pygame.time.delay(50)\n",
        "        clock.tick(10)\n",
        "        s.move()\n",
        "        headPos = s.head.pos\n",
        "        if headPos[0] >= 20 or headPos[0] < 0 or headPos[1] >= 20 or headPos[1] < 0:\n",
        "            print(\"Score:\", len(s.body))\n",
        "            s.reset((10, 10))\n",
        "\n",
        "        if s.body[0].pos == snack.pos:\n",
        "            s.addCube()\n",
        "            snack = cube(randomSnack(rows,s), color=(0,255,0))\n",
        "            \n",
        "        for x in range(len(s.body)):\n",
        "            if s.body[x].pos in list(map(lambda z:z.pos,s.body[x+1:])):\n",
        "                print(\"Score:\", len(s.body))\n",
        "                s.reset((10,10))\n",
        "                break\n",
        "                    \n",
        "        redrawWindow()\n",
        "    pygame.quit()\n",
        "    pygame.time.delay(3000)\n",
        "    sys.exit(0)"
      ],
      "execution_count": 7,
      "outputs": []
    },
    {
      "cell_type": "code",
      "metadata": {
        "colab": {
          "base_uri": "https://localhost:8080/",
          "height": 324
        },
        "id": "wIn--7YO5kN1",
        "outputId": "a8468ff1-9900-42b8-9161-c321bb19da62"
      },
      "source": [
        "main()"
      ],
      "execution_count": 8,
      "outputs": [
        {
          "output_type": "error",
          "ename": "error",
          "evalue": "ignored",
          "traceback": [
            "\u001b[0;31m---------------------------------------------------------------------------\u001b[0m",
            "\u001b[0;31merror\u001b[0m                                     Traceback (most recent call last)",
            "\u001b[0;32m<ipython-input-8-263240bbee7e>\u001b[0m in \u001b[0;36m<module>\u001b[0;34m()\u001b[0m\n\u001b[0;32m----> 1\u001b[0;31m \u001b[0mmain\u001b[0m\u001b[0;34m(\u001b[0m\u001b[0;34m)\u001b[0m\u001b[0;34m\u001b[0m\u001b[0;34m\u001b[0m\u001b[0m\n\u001b[0m",
            "\u001b[0;32m<ipython-input-7-36f3ee7749ea>\u001b[0m in \u001b[0;36mmain\u001b[0;34m()\u001b[0m\n\u001b[1;32m     43\u001b[0m                 \u001b[0;32mbreak\u001b[0m\u001b[0;34m\u001b[0m\u001b[0;34m\u001b[0m\u001b[0m\n\u001b[1;32m     44\u001b[0m \u001b[0;34m\u001b[0m\u001b[0m\n\u001b[0;32m---> 45\u001b[0;31m         \u001b[0mredrawWindow\u001b[0m\u001b[0;34m(\u001b[0m\u001b[0;34m)\u001b[0m\u001b[0;34m\u001b[0m\u001b[0;34m\u001b[0m\u001b[0m\n\u001b[0m\u001b[1;32m     46\u001b[0m     \u001b[0mpygame\u001b[0m\u001b[0;34m.\u001b[0m\u001b[0mquit\u001b[0m\u001b[0;34m(\u001b[0m\u001b[0;34m)\u001b[0m\u001b[0;34m\u001b[0m\u001b[0;34m\u001b[0m\u001b[0m\n\u001b[1;32m     47\u001b[0m     \u001b[0mpygame\u001b[0m\u001b[0;34m.\u001b[0m\u001b[0mtime\u001b[0m\u001b[0;34m.\u001b[0m\u001b[0mdelay\u001b[0m\u001b[0;34m(\u001b[0m\u001b[0;36m3000\u001b[0m\u001b[0;34m)\u001b[0m\u001b[0;34m\u001b[0m\u001b[0;34m\u001b[0m\u001b[0m\n",
            "\u001b[0;32m<ipython-input-6-b007dc75ae89>\u001b[0m in \u001b[0;36mredrawWindow\u001b[0;34m()\u001b[0m\n\u001b[1;32m     85\u001b[0m     \u001b[0ms\u001b[0m\u001b[0;34m.\u001b[0m\u001b[0mdraw\u001b[0m\u001b[0;34m(\u001b[0m\u001b[0mwin\u001b[0m\u001b[0;34m)\u001b[0m\u001b[0;34m\u001b[0m\u001b[0;34m\u001b[0m\u001b[0m\n\u001b[1;32m     86\u001b[0m     \u001b[0msnack\u001b[0m\u001b[0;34m.\u001b[0m\u001b[0mdraw\u001b[0m\u001b[0;34m(\u001b[0m\u001b[0mwin\u001b[0m\u001b[0;34m)\u001b[0m\u001b[0;34m\u001b[0m\u001b[0;34m\u001b[0m\u001b[0m\n\u001b[0;32m---> 87\u001b[0;31m     \u001b[0mpygame\u001b[0m\u001b[0;34m.\u001b[0m\u001b[0mdisplay\u001b[0m\u001b[0;34m.\u001b[0m\u001b[0mupdate\u001b[0m\u001b[0;34m(\u001b[0m\u001b[0;34m)\u001b[0m\u001b[0;34m\u001b[0m\u001b[0;34m\u001b[0m\u001b[0m\n\u001b[0m\u001b[1;32m     88\u001b[0m     \u001b[0;32mpass\u001b[0m\u001b[0;34m\u001b[0m\u001b[0;34m\u001b[0m\u001b[0m\n\u001b[1;32m     89\u001b[0m \u001b[0;34m\u001b[0m\u001b[0m\n",
            "\u001b[0;31merror\u001b[0m: Display mode not set"
          ]
        }
      ]
    },
    {
      "cell_type": "code",
      "metadata": {
        "id": "ZEuMLi2M5nP1",
        "colab": {
          "base_uri": "https://localhost:8080/"
        },
        "outputId": "d1278673-2140-486c-fd29-f6ad2373c019"
      },
      "source": [
        "from bs4 import BeautifulSoup\n",
        "import requests\n",
        "import re\n",
        "\n",
        "url = 'https://en.wikipedia.org/wiki/Philosophy'\n",
        "html_page = requests.get(url).text\n",
        "soup = BeautifulSoup(html_page)\n",
        "for link in soup.findAll('a'):\n",
        "    lonk= link.get('href')\n",
        "    linki= str(lonk)\n",
        "    linki= linki[7:]\n",
        "    if('wikipedia' in linki and not '%' in linki):\n",
        "      print(lonk)"
      ],
      "execution_count": null,
      "outputs": [
        {
          "output_type": "stream",
          "text": [
            "https://en.wikipedia.org/w/index.php?title=Special:Log&type=review&page=Philosophy\n",
            "https://en.wikipedia.org/w/index.php?title=Template:Philosophy_sidebar&action=edit\n",
            "https://en.wikipedia.org/w/index.php?title=Template:Philosophy_topics&action=edit\n",
            "https://en.wikipedia.org/w/index.php?title=Template:Humanities&action=edit\n",
            "https://en.wikipedia.org/w/index.php?title=Template:World_view&action=edit\n",
            "https://en.wikipedia.org/w/index.php?title=Philosophy&oldid=1028666748\n",
            "https://donate.wikimedia.org/wiki/Special:FundraiserRedirector?utm_source=donate&utm_medium=sidebar&utm_campaign=C13_en.wikipedia.org&uselang=en\n",
            "https://ace.wikipedia.org/wiki/Kalam\n",
            "https://af.wikipedia.org/wiki/Filosofie\n",
            "https://als.wikipedia.org/wiki/Philosophie\n",
            "https://roa-rup.wikipedia.org/wiki/Filosofia\n",
            "https://gn.wikipedia.org/wiki/Arandupykuaaty\n",
            "https://ban.wikipedia.org/wiki/Filsafat\n",
            "https://bcl.wikipedia.org/wiki/Pilosopiya\n",
            "https://bi.wikipedia.org/wiki/Filosofi\n",
            "https://bar.wikipedia.org/wiki/Philosophie\n",
            "https://bs.wikipedia.org/wiki/Filozofija\n",
            "https://br.wikipedia.org/wiki/Prederouriezh\n",
            "https://ca.wikipedia.org/wiki/Filosofia\n",
            "https://ceb.wikipedia.org/wiki/Pilosopiya\n",
            "https://cs.wikipedia.org/wiki/Filosofie\n",
            "https://co.wikipedia.org/wiki/Filosofia\n",
            "https://cy.wikipedia.org/wiki/Athroniaeth\n",
            "https://da.wikipedia.org/wiki/Filosofi\n",
            "https://se.wikipedia.org/wiki/Filosofiija\n",
            "https://de.wikipedia.org/wiki/Philosophie\n",
            "https://et.wikipedia.org/wiki/Filosoofia\n",
            "https://eo.wikipedia.org/wiki/Filozofio\n",
            "https://ext.wikipedia.org/wiki/Filosofia\n",
            "https://eu.wikipedia.org/wiki/Filosofia\n",
            "https://hif.wikipedia.org/wiki/Philosophy\n",
            "https://fo.wikipedia.org/wiki/Heimspeki\n",
            "https://fr.wikipedia.org/wiki/Philosophie\n",
            "https://fy.wikipedia.org/wiki/Filosofy\n",
            "https://fur.wikipedia.org/wiki/Filosofie\n",
            "https://gv.wikipedia.org/wiki/Fallsoonys\n",
            "https://gd.wikipedia.org/wiki/Feallsanachd\n",
            "https://ha.wikipedia.org/wiki/Falsafa\n",
            "https://hr.wikipedia.org/wiki/Filozofija\n",
            "https://io.wikipedia.org/wiki/Filozofio\n",
            "https://ilo.wikipedia.org/wiki/Pilosopia\n",
            "https://id.wikipedia.org/wiki/Filsafat\n",
            "https://ia.wikipedia.org/wiki/Philosophia\n",
            "https://ie.wikipedia.org/wiki/Filosofie\n",
            "https://xh.wikipedia.org/wiki/Ifilosofi\n",
            "https://zu.wikipedia.org/wiki/IFilosofi\n",
            "https://is.wikipedia.org/wiki/Heimspeki\n",
            "https://it.wikipedia.org/wiki/Filosofia\n",
            "https://jv.wikipedia.org/wiki/Filsafat\n",
            "https://kbp.wikipedia.org/wiki/Filozofii\n",
            "https://kl.wikipedia.org/wiki/Inuunerup_isumalerineq\n",
            "https://rw.wikipedia.org/wiki/Filozofi\n",
            "https://sw.wikipedia.org/wiki/Falsafa\n",
            "https://avk.wikipedia.org/wiki/Trakopa\n",
            "https://ht.wikipedia.org/wiki/Filozofi\n",
            "https://gcr.wikipedia.org/wiki/Filozofi\n",
            "https://ku.wikipedia.org/wiki/Felsefe\n",
            "https://lld.wikipedia.org/wiki/Filosofia\n",
            "https://lad.wikipedia.org/wiki/Filosofia\n",
            "https://la.wikipedia.org/wiki/Philosophia\n",
            "https://lv.wikipedia.org/wiki/Filozofija\n",
            "https://lb.wikipedia.org/wiki/Philosophie\n",
            "https://lt.wikipedia.org/wiki/Filosofija\n",
            "https://li.wikipedia.org/wiki/Filosofie\n",
            "https://lfn.wikipedia.org/wiki/Filosofia\n",
            "https://olo.wikipedia.org/wiki/Filosoufii\n",
            "https://jbo.wikipedia.org/wiki/pijyske\n",
            "https://lg.wikipedia.org/wiki/Essomabibuuzo(Philosophy)\n",
            "https://lmo.wikipedia.org/wiki/Filusufia\n",
            "https://mt.wikipedia.org/wiki/Filosofija\n",
            "https://ms.wikipedia.org/wiki/Falsafah\n",
            "https://mwl.wikipedia.org/wiki/Filosofie\n",
            "https://nah.wikipedia.org/wiki/Tlazohmatiliztli\n",
            "https://fj.wikipedia.org/wiki/Filosofi\n",
            "https://nl.wikipedia.org/wiki/Filosofie\n",
            "https://nds-nl.wikipedia.org/wiki/Filesefie\n",
            "https://frr.wikipedia.org/wiki/Filosofii\n",
            "https://no.wikipedia.org/wiki/Filosofi\n",
            "https://nn.wikipedia.org/wiki/Filosofi\n",
            "https://nrm.wikipedia.org/wiki/Philosophie\n",
            "https://nov.wikipedia.org/wiki/Filosofia\n",
            "https://oc.wikipedia.org/wiki/Filosofia\n",
            "https://om.wikipedia.org/wiki/Falaasama\n",
            "https://uz.wikipedia.org/wiki/Falsafa\n",
            "https://pfl.wikipedia.org/wiki/Philosophie\n",
            "https://pap.wikipedia.org/wiki/Filosofia\n",
            "https://jam.wikipedia.org/wiki/Filasafi\n",
            "https://pcd.wikipedia.org/wiki/Filosofie\n",
            "https://tpi.wikipedia.org/wiki/Pilosopi\n",
            "https://nds.wikipedia.org/wiki/Philosophie\n",
            "https://pl.wikipedia.org/wiki/Filozofia\n",
            "https://pt.wikipedia.org/wiki/Filosofia\n",
            "https://kaa.wikipedia.org/wiki/Filosofiya\n",
            "https://ro.wikipedia.org/wiki/Filosofie\n",
            "https://rm.wikipedia.org/wiki/Filosofia\n",
            "https://qu.wikipedia.org/wiki/Yachay_wayllukuy\n",
            "https://sc.wikipedia.org/wiki/Filosofia\n",
            "https://sco.wikipedia.org/wiki/Philosophy\n",
            "https://stq.wikipedia.org/wiki/Philosophie\n",
            "https://st.wikipedia.org/wiki/Filosofi\n",
            "https://sq.wikipedia.org/wiki/Filozofia\n",
            "https://simple.wikipedia.org/wiki/Philosophy\n",
            "https://sk.wikipedia.org/wiki/Filozofia\n",
            "https://sl.wikipedia.org/wiki/Filozofija\n",
            "https://so.wikipedia.org/wiki/Filasoofiyada\n",
            "https://srn.wikipedia.org/wiki/Sabi_fu_denki\n",
            "https://sh.wikipedia.org/wiki/Filozofija\n",
            "https://su.wikipedia.org/wiki/Filsafat\n",
            "https://fi.wikipedia.org/wiki/Filosofia\n",
            "https://sv.wikipedia.org/wiki/Filosofi\n",
            "https://tl.wikipedia.org/wiki/Pilosopiya\n",
            "https://kab.wikipedia.org/wiki/Tafelsaft\n",
            "https://tr.wikipedia.org/wiki/Felsefe\n",
            "https://za.wikipedia.org/wiki/Cwzyoz\n",
            "https://vep.wikipedia.org/wiki/Filosofii\n",
            "https://vo.wikipedia.org/wiki/Filosop\n",
            "https://fiu-vro.wikipedia.org/wiki/Filosoofia\n",
            "https://wa.wikipedia.org/wiki/Filozofeye\n",
            "https://war.wikipedia.org/wiki/Filosofiya\n",
            "https://wo.wikipedia.org/wiki/Xeltu\n",
            "https://ts.wikipedia.org/wiki/Ntivo-vuhleketi\n",
            "https://diq.wikipedia.org/wiki/Felsefe\n",
            "https://zea.wikipedia.org/wiki/Filosofie\n",
            "https://www.wikidata.org/wiki/Special:EntityPage/Q5891#sitelinks-wikipedia\n",
            "//en.m.wikipedia.org/w/index.php?title=Philosophy&mobileaction=toggle_view_mobile\n",
            "https://stats.wikimedia.org/#/en.wikipedia.org\n"
          ],
          "name": "stdout"
        }
      ]
    },
    {
      "cell_type": "code",
      "metadata": {
        "id": "ofSDEoXVIMqr"
      },
      "source": [
        ""
      ],
      "execution_count": null,
      "outputs": []
    }
  ]
}